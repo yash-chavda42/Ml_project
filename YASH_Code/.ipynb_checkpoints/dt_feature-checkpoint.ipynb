{
 "cells": [
  {
   "cell_type": "code",
   "execution_count": null,
   "id": "56bc2c73-4b3a-40d1-9c6d-2d4edb0c997d",
   "metadata": {},
   "outputs": [],
   "source": [
    "import numpy as np \n",
    "import matplotlib.pyplot as plt\n",
    "import pandas as pd"
   ]
  },
  {
   "cell_type": "code",
   "execution_count": null,
   "id": "8f00267c-ef1f-4243-a047-ae882f096bbd",
   "metadata": {},
   "outputs": [],
   "source": [
    "from sklearn.metrics import f1_score\n",
    "from sklearn.metrics import recall_score\n",
    "from sklearn.metrics import precision_score\n",
    "from sklearn.metrics import precision_recall_fscore_support"
   ]
  },
  {
   "cell_type": "code",
   "execution_count": 26,
   "id": "fe950eae-0a62-45ce-a75f-5c52a8c3cbd6",
   "metadata": {},
   "outputs": [],
   "source": [
    "import cv2\n",
    "import os\n",
    "from sklearn import metrics\n",
    "from sklearn.metrics import classification_report,confusion_matrix,accuracy_score\n",
    "from skimage.io import imread, imshow\n",
    "from skimage.filters import prewitt_h,prewitt_v"
   ]
  },
  {
   "cell_type": "code",
   "execution_count": null,
   "id": "79ba55b2-0e28-4ded-8ca2-35d9bf565504",
   "metadata": {},
   "outputs": [
    {
     "name": "stdout",
     "output_type": "stream",
     "text": [
      "            ImageId  ClassId  \\\n",
      "0     0002cc93b.jpg        1   \n",
      "1     0007a71bf.jpg        3   \n",
      "2     000a4bcdd.jpg        1   \n",
      "3     000f6bf48.jpg        4   \n",
      "4     0014fce06.jpg        3   \n",
      "...             ...      ...   \n",
      "7090  ffcf72ecf.jpg        3   \n",
      "7091  fff02e9c5.jpg        3   \n",
      "7092  fffe98443.jpg        3   \n",
      "7093  ffff4eaa8.jpg        3   \n",
      "7094  ffffd67df.jpg        3   \n",
      "\n",
      "                                          EncodedPixels  \n",
      "0     29102 12 29346 24 29602 24 29858 24 30114 24 3...  \n",
      "1     18661 28 18863 82 19091 110 19347 110 19603 11...  \n",
      "2     37607 3 37858 8 38108 14 38359 20 38610 25 388...  \n",
      "3     131973 1 132228 4 132483 6 132738 8 132993 11 ...  \n",
      "4     229501 11 229741 33 229981 55 230221 77 230468...  \n",
      "...                                                 ...  \n",
      "7090  121911 34 122167 101 122422 169 122678 203 122...  \n",
      "7091  207523 3 207777 9 208030 15 208283 22 208537 2...  \n",
      "7092  105929 5 106177 14 106424 24 106672 33 106923 ...  \n",
      "7093  16899 7 17155 20 17411 34 17667 47 17923 60 18...  \n",
      "7094  30931 43 31103 127 31275 211 31489 253 31745 2...  \n",
      "\n",
      "[7095 rows x 3 columns]\n"
     ]
    }
   ],
   "source": [
    "path = \"/home/param-mu-scom/ICT_Yash/YASHDATA/train_images/train.csv\"\n",
    "path2= \"/home/param-mu-scom/ICT_Yash/YASHDATA/train_images\"\n",
    "#read csv file\n",
    "dataset = pd.read_csv(path)\n",
    "print(dataset)\n",
    "data=dataset.values[:7095,0:2]#7000 image for train\n"
   ]
  },
  {
   "cell_type": "code",
   "execution_count": 39,
   "id": "461b269c-a9ce-4b81-9b8d-ea78e0eae7fb",
   "metadata": {},
   "outputs": [],
   "source": [
    "image=[]\n",
    "classes=[]\n",
    "\n",
    "#taking image from csv file\n",
    "for i in range(7000):   \n",
    "  name=data[i][0]\n",
    "  join_path=os.path.join(path2,name)  \n",
    "  img= imread(join_path,as_gray=True)\n",
    "  edges_prewitt_vertical = prewitt_v(img)\n",
    "  #imshow(edges_prewitt_vertical, cmap='gray')  \n",
    "  image.append(edges_prewitt_vertical)#append all the image in imge\n",
    "  classes.append(data[i][1])#append all the class in classes"
   ]
  },
  {
   "cell_type": "code",
   "execution_count": 37,
   "id": "a622d50e-bc16-4d36-828a-a42d78e4b8e8",
   "metadata": {},
   "outputs": [
    {
     "data": {
      "text/plain": [
       "[array([[ 2.61437908e-03, -2.61437908e-03, -1.30718954e-02, ...,\n",
       "         -7.84313725e-03,  9.15032680e-03,  7.84313725e-03],\n",
       "        [ 6.53594771e-03,  5.22875817e-03, -6.53594771e-03, ...,\n",
       "         -1.30718954e-03,  1.30718954e-02,  9.15032680e-03],\n",
       "        [ 1.38777878e-17, -3.92156863e-03, -5.22875817e-03, ...,\n",
       "          5.22875817e-03,  1.43790850e-02,  9.15032680e-03],\n",
       "        ...,\n",
       "        [-7.45098039e-02, -9.28104575e-02, -6.01307190e-02, ...,\n",
       "          1.30718954e-03, -6.53594771e-03, -9.15032680e-03],\n",
       "        [-1.46405229e-01, -1.84313725e-01, -5.09803922e-02, ...,\n",
       "          5.22875817e-03, -2.09150327e-02, -1.96078431e-02],\n",
       "        [-1.71241830e-01, -2.27450980e-01, -5.62091503e-02, ...,\n",
       "          1.56862745e-02, -3.00653595e-02, -2.87581699e-02]]),\n",
       " array([[ 7.84313725e-03,  9.15032680e-03, -1.04575163e-02, ...,\n",
       "         -5.22875817e-03, -1.30718954e-03, -9.15032680e-03],\n",
       "        [ 7.84313725e-03,  9.15032680e-03, -9.15032680e-03, ...,\n",
       "         -2.77555756e-17,  9.15032680e-03,  2.61437908e-03],\n",
       "        [ 6.53594771e-03,  7.84313725e-03, -7.84313725e-03, ...,\n",
       "          6.53594771e-03,  1.96078431e-02,  1.56862745e-02],\n",
       "        ...,\n",
       "        [ 1.69934641e-02, -5.22875817e-03, -4.05228758e-02, ...,\n",
       "         -2.22222222e-02, -2.22222222e-02,  2.61437908e-03],\n",
       "        [ 2.35294118e-02,  1.30718954e-03, -3.66013072e-02, ...,\n",
       "         -2.09150327e-02, -9.15032680e-03, -1.30718954e-03],\n",
       "        [ 3.00653595e-02,  1.43790850e-02, -2.35294118e-02, ...,\n",
       "         -7.84313725e-03,  1.69934641e-02,  0.00000000e+00]]),\n",
       " array([[-0.00653595, -0.00784314,  0.00130719, ..., -0.00653595,\n",
       "         -0.00392157, -0.00392157],\n",
       "        [-0.00915033, -0.01176471,  0.        , ..., -0.00522876,\n",
       "         -0.00261438, -0.00261438],\n",
       "        [-0.00915033, -0.0130719 , -0.00130719, ..., -0.00392157,\n",
       "         -0.00130719, -0.00130719],\n",
       "        ...,\n",
       "        [ 0.00653595,  0.00915033,  0.00261438, ..., -0.00522876,\n",
       "          0.01437908,  0.01568627],\n",
       "        [ 0.02352941,  0.02091503, -0.00784314, ..., -0.00653595,\n",
       "          0.01176471,  0.01437908],\n",
       "        [ 0.03529412,  0.03137255, -0.01176471, ..., -0.00522876,\n",
       "          0.0130719 ,  0.01437908]]),\n",
       " array([[ 0.00784314,  0.00784314, -0.00784314, ...,  0.00261438,\n",
       "          0.0130719 ,  0.00784314],\n",
       "        [ 0.00522876,  0.00653595,  0.00130719, ...,  0.00130719,\n",
       "          0.01568627,  0.00915033],\n",
       "        [ 0.00653595,  0.01045752,  0.00653595, ...,  0.        ,\n",
       "          0.01830065,  0.01045752],\n",
       "        ...,\n",
       "        [-0.00784314, -0.01437908, -0.03660131, ...,  0.04052288,\n",
       "          0.06013072,  0.03006536],\n",
       "        [-0.0130719 , -0.02222222, -0.03921569, ...,  0.0379085 ,\n",
       "          0.05751634,  0.03006536],\n",
       "        [-0.03006536, -0.04575163, -0.03267974, ...,  0.03398693,\n",
       "          0.04836601,  0.0248366 ]]),\n",
       " array([[ 1.43790850e-02,  1.96078431e-02, -2.61437908e-03, ...,\n",
       "          0.00000000e+00,  0.00000000e+00,  0.00000000e+00],\n",
       "        [ 6.53594771e-03,  3.92156863e-03, -1.69934641e-02, ...,\n",
       "          0.00000000e+00,  0.00000000e+00,  0.00000000e+00],\n",
       "        [ 1.38777878e-17, -9.15032680e-03, -2.61437908e-02, ...,\n",
       "          0.00000000e+00,  0.00000000e+00,  0.00000000e+00],\n",
       "        ...,\n",
       "        [ 3.92156863e-03, -2.77555756e-17, -1.56862745e-02, ...,\n",
       "          0.00000000e+00, -1.30718954e-03, -1.30718954e-03],\n",
       "        [-1.30718954e-03, -9.15032680e-03, -2.22222222e-02, ...,\n",
       "         -1.30718954e-03, -2.61437908e-03, -1.30718954e-03],\n",
       "        [-5.22875817e-03, -1.56862745e-02, -2.61437908e-02, ...,\n",
       "         -2.61437908e-03, -3.92156863e-03, -1.30718954e-03]]),\n",
       " array([[ 0.00392157,  0.00784314,  0.        , ...,  0.00522876,\n",
       "          0.02222222,  0.01437908],\n",
       "        [ 0.00392157,  0.00784314,  0.00130719, ...,  0.00784314,\n",
       "          0.01699346,  0.01045752],\n",
       "        [ 0.00392157,  0.00784314,  0.00261438, ...,  0.01045752,\n",
       "          0.01176471,  0.00653595],\n",
       "        ...,\n",
       "        [ 0.        ,  0.        ,  0.        , ..., -0.0248366 ,\n",
       "         -0.03137255, -0.01960784],\n",
       "        [ 0.        ,  0.        ,  0.00130719, ..., -0.0248366 ,\n",
       "         -0.04575163, -0.02745098],\n",
       "        [ 0.        ,  0.        ,  0.00261438, ..., -0.01960784,\n",
       "         -0.0379085 , -0.02222222]]),\n",
       " array([[ 0.00392157,  0.00784314,  0.        , ...,  0.00522876,\n",
       "          0.02222222,  0.01437908],\n",
       "        [ 0.00392157,  0.00784314,  0.00130719, ...,  0.00784314,\n",
       "          0.01699346,  0.01045752],\n",
       "        [ 0.00392157,  0.00784314,  0.00261438, ...,  0.01045752,\n",
       "          0.01176471,  0.00653595],\n",
       "        ...,\n",
       "        [ 0.        ,  0.        ,  0.        , ..., -0.0248366 ,\n",
       "         -0.03137255, -0.01960784],\n",
       "        [ 0.        ,  0.        ,  0.00130719, ..., -0.0248366 ,\n",
       "         -0.04575163, -0.02745098],\n",
       "        [ 0.        ,  0.        ,  0.00261438, ..., -0.01960784,\n",
       "         -0.0379085 , -0.02222222]]),\n",
       " array([[-2.61437908e-03,  0.00000000e+00,  5.22875817e-03, ...,\n",
       "         -1.96078431e-02, -3.92156863e-03,  2.61437908e-03],\n",
       "        [-3.92156863e-03, -2.61437908e-03,  2.61437908e-03, ...,\n",
       "         -1.17647059e-02, -5.22875817e-03, -6.93889390e-18],\n",
       "        [-3.92156863e-03, -1.30718954e-03,  5.22875817e-03, ...,\n",
       "         -2.61437908e-03, -9.15032680e-03, -5.22875817e-03],\n",
       "        ...,\n",
       "        [-2.61437908e-03, -1.30718954e-03,  1.30718954e-03, ...,\n",
       "         -3.92156863e-03,  1.17647059e-02,  7.84313725e-03],\n",
       "        [-6.53594771e-03, -7.84313725e-03,  2.61437908e-03, ...,\n",
       "         -5.22875817e-03,  3.92156863e-03,  3.92156863e-03],\n",
       "        [-5.22875817e-03, -6.53594771e-03,  6.53594771e-03, ...,\n",
       "         -7.84313725e-03, -6.53594771e-03, -1.30718954e-03]]),\n",
       " array([[ 0.        ,  0.        ,  0.        , ..., -0.00261438,\n",
       "         -0.01045752, -0.00653595],\n",
       "        [ 0.        ,  0.        ,  0.        , ..., -0.00130719,\n",
       "         -0.00522876, -0.00261438],\n",
       "        [ 0.        ,  0.        ,  0.        , ..., -0.00392157,\n",
       "         -0.00261438,  0.        ],\n",
       "        ...,\n",
       "        [ 0.        ,  0.        ,  0.        , ...,  0.05490196,\n",
       "          0.02614379, -0.00130719],\n",
       "        [ 0.        ,  0.        ,  0.        , ...,  0.05098039,\n",
       "          0.01568627, -0.00653595],\n",
       "        [ 0.        ,  0.        ,  0.        , ...,  0.04836601,\n",
       "          0.00784314, -0.01045752]]),\n",
       " array([[ 0.        ,  0.        ,  0.        , ..., -0.00261438,\n",
       "         -0.01045752, -0.00653595],\n",
       "        [ 0.        ,  0.        ,  0.        , ..., -0.00130719,\n",
       "         -0.00522876, -0.00261438],\n",
       "        [ 0.        ,  0.        ,  0.        , ..., -0.00392157,\n",
       "         -0.00261438,  0.        ],\n",
       "        ...,\n",
       "        [ 0.        ,  0.        ,  0.        , ...,  0.05490196,\n",
       "          0.02614379, -0.00130719],\n",
       "        [ 0.        ,  0.        ,  0.        , ...,  0.05098039,\n",
       "          0.01568627, -0.00653595],\n",
       "        [ 0.        ,  0.        ,  0.        , ...,  0.04836601,\n",
       "          0.00784314, -0.01045752]])]"
      ]
     },
     "execution_count": 37,
     "metadata": {},
     "output_type": "execute_result"
    }
   ],
   "source": [
    "image"
   ]
  },
  {
   "cell_type": "code",
   "execution_count": 38,
   "id": "8c3236b0-3522-4b81-be9b-5b02257394ba",
   "metadata": {},
   "outputs": [
    {
     "data": {
      "text/plain": [
       "[1, 3, 1, 4, 3, 3, 4, 4, 1, 2]"
      ]
     },
     "execution_count": 38,
     "metadata": {},
     "output_type": "execute_result"
    }
   ],
   "source": [
    "classes"
   ]
  },
  {
   "cell_type": "code",
   "execution_count": 40,
   "id": "2da9b249-2ab5-49ca-bc47-44c91f2fd033",
   "metadata": {},
   "outputs": [],
   "source": [
    "#converitng into numpy\n",
    "image=np.array(image)\n",
    "classes=np.array(classes)"
   ]
  },
  {
   "cell_type": "code",
   "execution_count": 41,
   "id": "d766a573-4867-4a85-895f-d409bc2a3de2",
   "metadata": {},
   "outputs": [
    {
     "data": {
      "text/plain": [
       "(7000, 256, 1600)"
      ]
     },
     "execution_count": 41,
     "metadata": {},
     "output_type": "execute_result"
    }
   ],
   "source": [
    "image.shape"
   ]
  },
  {
   "cell_type": "code",
   "execution_count": 44,
   "id": "a9b5dc29-7a16-4f5d-8d06-b3abcd2c030c",
   "metadata": {},
   "outputs": [],
   "source": [
    "x_train, x_test, y_train, y_test = 0,0,0,0"
   ]
  },
  {
   "cell_type": "code",
   "execution_count": 45,
   "id": "bf1d4b65-e953-4793-b5fa-5d59a411621d",
   "metadata": {},
   "outputs": [
    {
     "name": "stdout",
     "output_type": "stream",
     "text": [
      "Train set: (5600, 256, 1600) (5600,)\n",
      "Test set: (1400, 256, 1600) (1400,)\n"
     ]
    }
   ],
   "source": [
    "#split train and test\n",
    "from sklearn.model_selection import train_test_split\n",
    "x_train, x_test, y_train, y_test = train_test_split(image, classes, test_size=0.2, random_state=8)\n",
    "print ('Train set:', x_train.shape,  y_train.shape)\n",
    "print ('Test set:', x_test.shape,  y_test.shape)\n",
    "\n",
    "\n",
    "nsamples, nx, ny = x_train.shape\n",
    "x_train = x_train.reshape((nsamples,nx*ny))\n",
    "\n",
    "nsamples, nx, ny = x_test.shape\n",
    "x_test = x_test.reshape((nsamples,nx*ny))\n"
   ]
  },
  {
   "cell_type": "code",
   "execution_count": 46,
   "id": "b19560f3-70c2-4381-b8fd-cd14430ec62d",
   "metadata": {},
   "outputs": [
    {
     "name": "stdout",
     "output_type": "stream",
     "text": [
      "              precision    recall  f1-score   support\n",
      "\n",
      "           1       0.00      0.00      0.00       719\n",
      "           2       0.00      0.00      0.00       191\n",
      "           3       0.73      1.00      0.84      4064\n",
      "           4       0.00      0.00      0.00       626\n",
      "\n",
      "    accuracy                           0.73      5600\n",
      "   macro avg       0.18      0.25      0.21      5600\n",
      "weighted avg       0.53      0.73      0.61      5600\n",
      "\n",
      "              precision    recall  f1-score   support\n",
      "\n",
      "           1       0.00      0.00      0.00       167\n",
      "           2       0.00      0.00      0.00        54\n",
      "           3       0.72      1.00      0.84      1011\n",
      "           4       0.00      0.00      0.00       168\n",
      "\n",
      "    accuracy                           0.72      1400\n",
      "   macro avg       0.18      0.25      0.21      1400\n",
      "weighted avg       0.52      0.72      0.61      1400\n",
      "\n"
     ]
    },
    {
     "name": "stderr",
     "output_type": "stream",
     "text": [
      "/home/param-mu-scom/anaconda3/lib/python3.8/site-packages/sklearn/metrics/_classification.py:1318: UndefinedMetricWarning: Precision and F-score are ill-defined and being set to 0.0 in labels with no predicted samples. Use `zero_division` parameter to control this behavior.\n",
      "  _warn_prf(average, modifier, msg_start, len(result))\n",
      "/home/param-mu-scom/anaconda3/lib/python3.8/site-packages/sklearn/metrics/_classification.py:1318: UndefinedMetricWarning: Precision and F-score are ill-defined and being set to 0.0 in labels with no predicted samples. Use `zero_division` parameter to control this behavior.\n",
      "  _warn_prf(average, modifier, msg_start, len(result))\n",
      "/home/param-mu-scom/anaconda3/lib/python3.8/site-packages/sklearn/metrics/_classification.py:1318: UndefinedMetricWarning: Precision and F-score are ill-defined and being set to 0.0 in labels with no predicted samples. Use `zero_division` parameter to control this behavior.\n",
      "  _warn_prf(average, modifier, msg_start, len(result))\n",
      "/home/param-mu-scom/anaconda3/lib/python3.8/site-packages/sklearn/metrics/_classification.py:1318: UndefinedMetricWarning: Precision and F-score are ill-defined and being set to 0.0 in labels with no predicted samples. Use `zero_division` parameter to control this behavior.\n",
      "  _warn_prf(average, modifier, msg_start, len(result))\n",
      "/home/param-mu-scom/anaconda3/lib/python3.8/site-packages/sklearn/metrics/_classification.py:1318: UndefinedMetricWarning: Precision and F-score are ill-defined and being set to 0.0 in labels with no predicted samples. Use `zero_division` parameter to control this behavior.\n",
      "  _warn_prf(average, modifier, msg_start, len(result))\n",
      "/home/param-mu-scom/anaconda3/lib/python3.8/site-packages/sklearn/metrics/_classification.py:1318: UndefinedMetricWarning: Precision and F-score are ill-defined and being set to 0.0 in labels with no predicted samples. Use `zero_division` parameter to control this behavior.\n",
      "  _warn_prf(average, modifier, msg_start, len(result))\n"
     ]
    }
   ],
   "source": [
    "from sklearn.tree import DecisionTreeClassifier\n",
    "imageTree = DecisionTreeClassifier(criterion=\"entropy\", max_depth = 2)\n",
    "imageTree # it shows the default parameters\n",
    "train_accuracy = list()\n",
    "test_accuracy = list()\n",
    "max_depth = list()\n",
    "imageTree.fit(x_train,y_train)\n",
    "#for train\n",
    "pred_class_train = imageTree.predict(x_train)\n",
    "#for test\n",
    "pred_class_test = imageTree.predict(x_test)\n",
    "\n",
    "\n",
    "#for train data\n",
    "print (classification_report(y_train, pred_class_train))\n",
    "\n",
    "#for test data\n",
    "print (classification_report(y_test, pred_class_test))\n",
    "\n",
    "\n"
   ]
  },
  {
   "cell_type": "code",
   "execution_count": 1,
   "id": "b8b81f07-6b6f-4916-832b-d7b2cfdcc33c",
   "metadata": {},
   "outputs": [
    {
     "ename": "NameError",
     "evalue": "name 'DecisionTreeClassifier' is not defined",
     "output_type": "error",
     "traceback": [
      "\u001b[0;31m---------------------------------------------------------------------------\u001b[0m",
      "\u001b[0;31mNameError\u001b[0m                                 Traceback (most recent call last)",
      "\u001b[0;32m/tmp/ipykernel_182132/3261594536.py\u001b[0m in \u001b[0;36m<cell line: 1>\u001b[0;34m()\u001b[0m\n\u001b[1;32m      1\u001b[0m \u001b[0;32mfor\u001b[0m \u001b[0mdepth\u001b[0m \u001b[0;32min\u001b[0m \u001b[0mrange\u001b[0m\u001b[0;34m(\u001b[0m\u001b[0;36m1\u001b[0m\u001b[0;34m,\u001b[0m\u001b[0;36m20\u001b[0m\u001b[0;34m)\u001b[0m\u001b[0;34m:\u001b[0m\u001b[0;34m\u001b[0m\u001b[0;34m\u001b[0m\u001b[0m\n\u001b[0;32m----> 2\u001b[0;31m     \u001b[0mimageTree\u001b[0m \u001b[0;34m=\u001b[0m \u001b[0mDecisionTreeClassifier\u001b[0m\u001b[0;34m(\u001b[0m\u001b[0mcriterion\u001b[0m\u001b[0;34m=\u001b[0m\u001b[0;34m\"entropy\"\u001b[0m\u001b[0;34m,\u001b[0m \u001b[0mmax_depth\u001b[0m \u001b[0;34m=\u001b[0m \u001b[0mdepth\u001b[0m\u001b[0;34m)\u001b[0m\u001b[0;34m\u001b[0m\u001b[0;34m\u001b[0m\u001b[0m\n\u001b[0m\u001b[1;32m      3\u001b[0m     \u001b[0mimageTree\u001b[0m\u001b[0;34m.\u001b[0m\u001b[0mfit\u001b[0m\u001b[0;34m(\u001b[0m\u001b[0mx_train\u001b[0m\u001b[0;34m,\u001b[0m\u001b[0my_train\u001b[0m\u001b[0;34m)\u001b[0m\u001b[0;34m\u001b[0m\u001b[0;34m\u001b[0m\u001b[0m\n\u001b[1;32m      4\u001b[0m     \u001b[0mprint\u001b[0m\u001b[0;34m(\u001b[0m\u001b[0;34m\"for depth :\"\u001b[0m\u001b[0;34m,\u001b[0m\u001b[0mdepth\u001b[0m\u001b[0;34m)\u001b[0m\u001b[0;34m\u001b[0m\u001b[0;34m\u001b[0m\u001b[0m\n\u001b[1;32m      5\u001b[0m     \u001b[0;31m#for train\u001b[0m\u001b[0;34m\u001b[0m\u001b[0;34m\u001b[0m\u001b[0;34m\u001b[0m\u001b[0m\n",
      "\u001b[0;31mNameError\u001b[0m: name 'DecisionTreeClassifier' is not defined"
     ]
    }
   ],
   "source": [
    "for depth in range(1,20):\n",
    "    imageTree = DecisionTreeClassifier(criterion=\"entropy\", max_depth = depth)\n",
    "    imageTree.fit(x_train,y_train)\n",
    "    print(\"for depth :\",depth)\n",
    "    #for train\n",
    "    pred_class_train = imageTree.predict(x_train)\n",
    "    print (classification_report(y_train, pred_class_train))\n",
    "    train_accuracy.append(metrics.accuracy_score(y_train, pred_class_train))\n",
    "    \n",
    "    #for test class\n",
    "    pred_class_test = imageTree.predict(x_test)\n",
    "    print (classification_report(y_test, pred_class_test))\n",
    "    \n",
    "    print(y_test)\n",
    "    print(pred_class_test)\n",
    "    train_accuracy.append(metrics.accuracy_score(y_test, pred_class_test))\n",
    "\n",
    "    max_depth.append(depth)"
   ]
  },
  {
   "cell_type": "code",
   "execution_count": null,
   "id": "aad1271e-9598-4229-8279-d59028b9e972",
   "metadata": {},
   "outputs": [],
   "source": []
  }
 ],
 "metadata": {
  "kernelspec": {
   "display_name": "Python 3 (ipykernel)",
   "language": "python",
   "name": "python3"
  },
  "language_info": {
   "codemirror_mode": {
    "name": "ipython",
    "version": 3
   },
   "file_extension": ".py",
   "mimetype": "text/x-python",
   "name": "python",
   "nbconvert_exporter": "python",
   "pygments_lexer": "ipython3",
   "version": "3.8.13"
  }
 },
 "nbformat": 4,
 "nbformat_minor": 5
}
